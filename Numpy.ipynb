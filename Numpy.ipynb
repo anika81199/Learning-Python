{
  "nbformat": 4,
  "nbformat_minor": 0,
  "metadata": {
    "colab": {
      "provenance": []
    },
    "kernelspec": {
      "name": "python3",
      "display_name": "Python 3"
    },
    "language_info": {
      "name": "python"
    }
  },
  "cells": [
    {
      "cell_type": "code",
      "source": [
        "import numpy as np\n",
        "np.array([1,2,3,4], dtype='float32')"
      ],
      "metadata": {
        "colab": {
          "base_uri": "https://localhost:8080/"
        },
        "id": "uB6XHCX3KMJ1",
        "outputId": "21f090e4-f999-41e7-a3ef-61aa9f6ef6f7"
      },
      "execution_count": null,
      "outputs": [
        {
          "output_type": "execute_result",
          "data": {
            "text/plain": [
              "array([1., 2., 3., 4.], dtype=float32)"
            ]
          },
          "metadata": {},
          "execution_count": 2
        }
      ]
    },
    {
      "cell_type": "code",
      "execution_count": null,
      "metadata": {
        "colab": {
          "base_uri": "https://localhost:8080/"
        },
        "id": "tI81cFt2Ju4K",
        "outputId": "79f9a5c4-763d-4f3e-ad7d-8877d3dd7a96"
      },
      "outputs": [
        {
          "output_type": "execute_result",
          "data": {
            "text/plain": [
              "array([1, 2, 3, 4, 5])"
            ]
          },
          "metadata": {},
          "execution_count": 2
        }
      ],
      "source": [
        "import numpy as np\n",
        "np.array([1,2,3,4,5])"
      ]
    },
    {
      "cell_type": "code",
      "source": [
        "np.array([[1,2,3],[2,3,4],[5,6,7]])"
      ],
      "metadata": {
        "colab": {
          "base_uri": "https://localhost:8080/"
        },
        "id": "OwEG63xcKgq_",
        "outputId": "dd8f5bbd-68ff-457e-d647-beb6ca345d9d"
      },
      "execution_count": null,
      "outputs": [
        {
          "output_type": "execute_result",
          "data": {
            "text/plain": [
              "array([[1, 2, 3],\n",
              "       [2, 3, 4],\n",
              "       [5, 6, 7]])"
            ]
          },
          "metadata": {},
          "execution_count": 4
        }
      ]
    },
    {
      "cell_type": "code",
      "source": [
        "np.zeros((10,2), dtype=int)"
      ],
      "metadata": {
        "colab": {
          "base_uri": "https://localhost:8080/"
        },
        "id": "zogo6XZdKyKg",
        "outputId": "a0bb1d1e-5d99-4cd9-e9c2-987cf7ca8c06"
      },
      "execution_count": null,
      "outputs": [
        {
          "output_type": "execute_result",
          "data": {
            "text/plain": [
              "array([[0, 0],\n",
              "       [0, 0],\n",
              "       [0, 0],\n",
              "       [0, 0],\n",
              "       [0, 0],\n",
              "       [0, 0],\n",
              "       [0, 0],\n",
              "       [0, 0],\n",
              "       [0, 0],\n",
              "       [0, 0]])"
            ]
          },
          "metadata": {},
          "execution_count": 3
        }
      ]
    },
    {
      "cell_type": "code",
      "source": [
        "np.ones((2,4), dtype=float)"
      ],
      "metadata": {
        "colab": {
          "base_uri": "https://localhost:8080/"
        },
        "id": "oiAo-ZAxK3ii",
        "outputId": "f281a72b-33e8-4b02-9056-4ba52e3114bb"
      },
      "execution_count": null,
      "outputs": [
        {
          "output_type": "execute_result",
          "data": {
            "text/plain": [
              "array([[1., 1., 1., 1.],\n",
              "       [1., 1., 1., 1.]])"
            ]
          },
          "metadata": {},
          "execution_count": 21
        }
      ]
    },
    {
      "cell_type": "code",
      "source": [
        "np.arange(0,10,1, dtype=float)"
      ],
      "metadata": {
        "colab": {
          "base_uri": "https://localhost:8080/"
        },
        "id": "j5r_pc3GLFzs",
        "outputId": "825f0dc3-0b98-43d1-e2b8-c66c0b5091eb"
      },
      "execution_count": null,
      "outputs": [
        {
          "output_type": "execute_result",
          "data": {
            "text/plain": [
              "array([0., 1., 2., 3., 4., 5., 6., 7., 8., 9.])"
            ]
          },
          "metadata": {},
          "execution_count": 22
        }
      ]
    },
    {
      "cell_type": "code",
      "source": [],
      "metadata": {
        "id": "aoTYUo3gXj8B"
      },
      "execution_count": null,
      "outputs": []
    },
    {
      "cell_type": "code",
      "source": [
        "np.random.random((2,3))"
      ],
      "metadata": {
        "colab": {
          "base_uri": "https://localhost:8080/"
        },
        "id": "rfSHiAGLLSYU",
        "outputId": "44139df3-6e2e-4002-9fcc-06884222954a"
      },
      "execution_count": null,
      "outputs": [
        {
          "output_type": "execute_result",
          "data": {
            "text/plain": [
              "array([[0.85837296, 0.75064068, 0.29398336],\n",
              "       [0.99966998, 0.1648925 , 0.29591101]])"
            ]
          },
          "metadata": {},
          "execution_count": 6
        }
      ]
    },
    {
      "cell_type": "code",
      "source": [
        "np.eye(4)"
      ],
      "metadata": {
        "colab": {
          "base_uri": "https://localhost:8080/"
        },
        "id": "fhE2pirXLcTC",
        "outputId": "46d8fb20-47ca-4a77-8cb6-35a6d0817455"
      },
      "execution_count": null,
      "outputs": [
        {
          "output_type": "execute_result",
          "data": {
            "text/plain": [
              "array([[1., 0., 0., 0.],\n",
              "       [0., 1., 0., 0.],\n",
              "       [0., 0., 1., 0.],\n",
              "       [0., 0., 0., 1.]])"
            ]
          },
          "metadata": {},
          "execution_count": 7
        }
      ]
    },
    {
      "cell_type": "code",
      "source": [
        "np.random.normal(2,(2,3)) #samples from Gaussian distribution with mean=2 and standard deviation = 5"
      ],
      "metadata": {
        "colab": {
          "base_uri": "https://localhost:8080/"
        },
        "id": "EmxismacLhrc",
        "outputId": "3a62ea5d-a1ba-4390-fb36-c44db2557bb6"
      },
      "execution_count": null,
      "outputs": [
        {
          "output_type": "execute_result",
          "data": {
            "text/plain": [
              "array([-1.23860013, -1.34189325])"
            ]
          },
          "metadata": {},
          "execution_count": 34
        }
      ]
    },
    {
      "cell_type": "code",
      "source": [
        "np.random.seed(123) # for generating the same set of pseudo random numbers"
      ],
      "metadata": {
        "id": "ntPoJ5qkMHXM"
      },
      "execution_count": null,
      "outputs": []
    },
    {
      "cell_type": "code",
      "source": [
        "x = np.arange(5)\n",
        "x\n",
        "x[-1]\n",
        "x[2:4]\n",
        "x[::2]"
      ],
      "metadata": {
        "id": "SJ82b8_XMz56",
        "colab": {
          "base_uri": "https://localhost:8080/"
        },
        "outputId": "1a473108-0244-4fc2-93d0-4c7f80f1b57d"
      },
      "execution_count": null,
      "outputs": [
        {
          "output_type": "execute_result",
          "data": {
            "text/plain": [
              "array([0, 2, 4])"
            ]
          },
          "metadata": {},
          "execution_count": 27
        }
      ]
    },
    {
      "cell_type": "code",
      "source": [
        "A = np.random.randint(-2,5,(2,3))\n",
        "A"
      ],
      "metadata": {
        "colab": {
          "base_uri": "https://localhost:8080/"
        },
        "id": "F29uWZtVNRtx",
        "outputId": "e5b8682c-0cb0-4915-bc4e-6fa5d505a09d"
      },
      "execution_count": null,
      "outputs": [
        {
          "output_type": "execute_result",
          "data": {
            "text/plain": [
              "array([[-1,  1,  4],\n",
              "       [ 3,  2, -2]])"
            ]
          },
          "metadata": {},
          "execution_count": 35
        }
      ]
    },
    {
      "cell_type": "code",
      "source": [
        "A[1,2]"
      ],
      "metadata": {
        "colab": {
          "base_uri": "https://localhost:8080/"
        },
        "id": "pFIdSkCJNnYT",
        "outputId": "8ab4cfb6-d9b2-4fc5-d54c-ce44ee7fc93c"
      },
      "execution_count": null,
      "outputs": [
        {
          "output_type": "execute_result",
          "data": {
            "text/plain": [
              "0"
            ]
          },
          "metadata": {},
          "execution_count": 29
        }
      ]
    },
    {
      "cell_type": "code",
      "source": [
        "import matplotlib.pyplot as plt\n",
        "x=np.linspace(0,10,50)\n",
        "plt.plot(np.exp(-x),x)\n",
        "x"
      ],
      "metadata": {
        "colab": {
          "base_uri": "https://localhost:8080/",
          "height": 450
        },
        "id": "MEb02GmMO8fe",
        "outputId": "740b4036-4871-4037-86d4-e5b1bf19a0a5"
      },
      "execution_count": null,
      "outputs": [
        {
          "output_type": "execute_result",
          "data": {
            "text/plain": [
              "array([ 0.        ,  0.20408163,  0.40816327,  0.6122449 ,  0.81632653,\n",
              "        1.02040816,  1.2244898 ,  1.42857143,  1.63265306,  1.83673469,\n",
              "        2.04081633,  2.24489796,  2.44897959,  2.65306122,  2.85714286,\n",
              "        3.06122449,  3.26530612,  3.46938776,  3.67346939,  3.87755102,\n",
              "        4.08163265,  4.28571429,  4.48979592,  4.69387755,  4.89795918,\n",
              "        5.10204082,  5.30612245,  5.51020408,  5.71428571,  5.91836735,\n",
              "        6.12244898,  6.32653061,  6.53061224,  6.73469388,  6.93877551,\n",
              "        7.14285714,  7.34693878,  7.55102041,  7.75510204,  7.95918367,\n",
              "        8.16326531,  8.36734694,  8.57142857,  8.7755102 ,  8.97959184,\n",
              "        9.18367347,  9.3877551 ,  9.59183673,  9.79591837, 10.        ])"
            ]
          },
          "metadata": {},
          "execution_count": 3
        },
        {
          "output_type": "display_data",
          "data": {
            "text/plain": [
              "<Figure size 432x288 with 1 Axes>"
            ],
            "image/png": "[encoded data removed]"
          },
          "metadata": {
            "needs_background": "light"
          }
        }
      ]
    },
    {
      "cell_type": "code",
      "source": [
        "fig = plt.figure()\n",
        "plt.plot(x,np.sin(x),'-')\n",
        "plt.plot(x,np.cos(x),'--')"
      ],
      "metadata": {
        "colab": {
          "base_uri": "https://localhost:8080/",
          "height": 282
        },
        "id": "HzFvzJs4QhWw",
        "outputId": "2bca819c-ff24-4ac3-a73f-4f657ac37617"
      },
      "execution_count": null,
      "outputs": [
        {
          "output_type": "execute_result",
          "data": {
            "text/plain": [
              "[<matplotlib.lines.Line2D at 0x7f27f2878c90>]"
            ]
          },
          "metadata": {},
          "execution_count": 31
        },
        {
          "output_type": "display_data",
          "data": {
            "text/plain": [
              "<Figure size 432x288 with 1 Axes>"
            ],
            "image/png": "[encoded data removed]"
          },
          "metadata": {
            "needs_background": "light"
          }
        }
      ]
    },
    {
      "cell_type": "code",
      "source": [
        "plt.plot(x,np.sin(x),'-g',label='sin(x)')\n",
        "plt.plot(x,np.cos(x),':b', label = 'cos(x)')\n",
        "plt.xlabel(\"x\")\n",
        "plt.legend()\n",
        "plt.title(\"sinusoidal plots\")"
      ],
      "metadata": {
        "colab": {
          "base_uri": "https://localhost:8080/",
          "height": 312
        },
        "id": "pUY1FSIYRBFF",
        "outputId": "c6662ad0-4224-461d-8c48-542d03e159fc"
      },
      "execution_count": null,
      "outputs": [
        {
          "output_type": "execute_result",
          "data": {
            "text/plain": [
              "Text(0.5, 1.0, 'sinusoidal plots')"
            ]
          },
          "metadata": {},
          "execution_count": 32
        },
        {
          "output_type": "display_data",
          "data": {
            "text/plain": [
              "<Figure size 432x288 with 1 Axes>"
            ],
            "image/png": "[encoded data removed]"
          },
          "metadata": {
            "needs_background": "light"
          }
        }
      ]
    }
  ]
}