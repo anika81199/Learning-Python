{
  "nbformat": 4,
  "nbformat_minor": 0,
  "metadata": {
    "colab": {
      "provenance": [],
      "collapsed_sections": [
        "LLdeTnQqH0tB",
        "-ShEiFsi-dPT"
      ]
    },
    "kernelspec": {
      "name": "python3",
      "display_name": "Python 3"
    },
    "language_info": {
      "name": "python"
    }
  },
  "cells": [
    {
      "cell_type": "markdown",
      "source": [
        "# **Review of Python Programming & Advanced Data Types**\n"
      ],
      "metadata": {
        "id": "sBghjezHGwwC"
      }
    },
    {
      "cell_type": "markdown",
      "source": [
        "# **Functions**"
      ],
      "metadata": {
        "id": "HsWnX63uHNPP"
      }
    },
    {
      "cell_type": "markdown",
      "source": [
        "Functions can be used whevever we need to run a specific block of code only when it is required. Also, It is used when a certain block of codes to be repeated many times with different data inputs.\n",
        "\n",
        "---\n",
        "\n",
        "**SYNTAX**\n",
        "\n",
        "*   **Function definition**:\n",
        "\n",
        "```\n",
        "def functionname(parameters):\n",
        "  #block of code to be executed when called\n",
        "```\n",
        "`def` is a keyword in python followed by the function name. A function may or may not have parameters.\n",
        "\n",
        "*   **Function call**\n",
        "\n",
        "```\n",
        "functionname(arguments)\n",
        "```\n",
        "Whenever we call a function (from the main program or from another function), the code within the function gets executed.\n",
        "\n",
        "\n",
        "---\n",
        "**Important terminologies**\n",
        "\n",
        "> **Parameters**: The variables that are written during a function definition\n",
        "\n",
        "> **Arguments**: The variables that are actully passed to a function\n",
        "\n",
        "\n",
        "\n",
        "```\n",
        "def first_function(name, age, school='SCEE', **kwargs):\n",
        "  pass\n",
        "```\n",
        "\n",
        "Here name, age, school, and kwargs are parameters of a funtion\n",
        "\n",
        "```\n",
        "first_function(name='Krishna', age='18')\n",
        "```\n",
        "\n",
        "'Krishna' and 18 are the arguments to the function\n",
        "\n",
        "> **Return type**: The results that are produced by the function when it is called"
      ],
      "metadata": {
        "id": "h1KB9-sB-fAV"
      }
    },
    {
      "cell_type": "code",
      "execution_count": null,
      "metadata": {
        "id": "f1b7rhL2GbTf",
        "colab": {
          "base_uri": "https://localhost:8080/"
        },
        "outputId": "984240a6-2201-4f5c-ab55-f82197f42578"
      },
      "outputs": [
        {
          "output_type": "stream",
          "name": "stdout",
          "text": [
            "Hello, MTech CSP!\n"
          ]
        }
      ],
      "source": [
        "def first_function():\n",
        "  print(\"Hello, MTech CSP!\")\n",
        "\n",
        "# the main program begins here\n",
        "first_function()"
      ]
    },
    {
      "cell_type": "markdown",
      "source": [
        "**Types of functions**\n",
        "\n",
        "Functions can be classified based on the parameters and the return type. There are four classes of functions\n",
        "1. With parameters and with return type\n",
        "2. With parameters and without return type\n",
        "3. Without parameters and with return type\n",
        "4. Without parameters and without return type"
      ],
      "metadata": {
        "id": "pYlJCvH5E7Vc"
      }
    },
    {
      "cell_type": "markdown",
      "source": [
        "**Function without parameters and without return type**\n"
      ],
      "metadata": {
        "id": "VrdxoOfXF4Gs"
      }
    },
    {
      "cell_type": "code",
      "source": [
        "def first_function():\n",
        "  print(\"Hello, MTech CSP!\")\n",
        "\n",
        "first_function()"
      ],
      "metadata": {
        "id": "qc6X2bMPHUN4",
        "colab": {
          "base_uri": "https://localhost:8080/"
        },
        "outputId": "5acdc2bd-392f-4b2c-dd3b-2557a7b18ba3"
      },
      "execution_count": null,
      "outputs": [
        {
          "output_type": "stream",
          "name": "stdout",
          "text": [
            "Hello, MTech CSP!\n"
          ]
        }
      ]
    },
    {
      "cell_type": "markdown",
      "source": [
        "The above code does not have any parameters and does not return any value when it is called."
      ],
      "metadata": {
        "id": "Zgd_rP3kGA3w"
      }
    },
    {
      "cell_type": "markdown",
      "source": [
        "**Function with parameters and without return type**"
      ],
      "metadata": {
        "id": "yFN9JYHIGLYC"
      }
    },
    {
      "cell_type": "code",
      "source": [
        "def first_function(department):\n",
        "  print(\"Hello, MTech \"+department+\"!\")\n",
        "\n",
        "department = \"CSE\"\n",
        "first_function(department)"
      ],
      "metadata": {
        "id": "b3T4z5sHHUF4",
        "colab": {
          "base_uri": "https://localhost:8080/"
        },
        "outputId": "483e4f76-f36c-419f-b7c9-320e86af940b"
      },
      "execution_count": null,
      "outputs": [
        {
          "output_type": "stream",
          "name": "stdout",
          "text": [
            "Hello, MTech CSE!\n"
          ]
        }
      ]
    },
    {
      "cell_type": "markdown",
      "source": [
        "The above code has the parameter *department* and passed it to the function when it is called. The function does not return any value."
      ],
      "metadata": {
        "id": "RPspf0dxGsy_"
      }
    },
    {
      "cell_type": "markdown",
      "source": [
        "**Function with parameters and with return type**"
      ],
      "metadata": {
        "id": "MGUi_cSVHF8H"
      }
    },
    {
      "cell_type": "code",
      "source": [
        "def first_function(department):\n",
        "  output = \"Hello, MTech \"+department+\"!\"\n",
        "  return output #function returns some value\n",
        "\n",
        "department = \"CSE\"\n",
        "output = first_function(department)\n",
        "print(output)"
      ],
      "metadata": {
        "colab": {
          "base_uri": "https://localhost:8080/"
        },
        "id": "gKBj9upxHFlf",
        "outputId": "78a9c7df-c7db-4c55-e17c-de596daeb7a1"
      },
      "execution_count": null,
      "outputs": [
        {
          "output_type": "stream",
          "name": "stdout",
          "text": [
            "Hello, MTech CSE!\n"
          ]
        }
      ]
    },
    {
      "cell_type": "markdown",
      "source": [
        "**Function without parameters and with return type**"
      ],
      "metadata": {
        "id": "peuCH31wcTmL"
      }
    },
    {
      "cell_type": "code",
      "source": [
        "def first_function():\n",
        "  output = \"Hello, MTech CSP!\"\n",
        "  return output #function returns some value\n",
        "\n",
        "output = first_function()\n",
        "print(output)"
      ],
      "metadata": {
        "colab": {
          "base_uri": "https://localhost:8080/"
        },
        "id": "sDFkwupXHFdh",
        "outputId": "73706674-6918-4684-9f97-ec45d39f112d"
      },
      "execution_count": null,
      "outputs": [
        {
          "output_type": "stream",
          "name": "stdout",
          "text": [
            "Hello, MTech CSP!\n"
          ]
        }
      ]
    },
    {
      "cell_type": "markdown",
      "source": [
        "Some more examples"
      ],
      "metadata": {
        "id": "oTIwqgqncw_U"
      }
    },
    {
      "cell_type": "code",
      "source": [
        "def first_function(department):\n",
        "  output = \"Hello, MTech \"+department+\"!\"\n",
        "  return output\n",
        "\n",
        "\n",
        "print(first_function(\"CSP\"))\n",
        "print(first_function(\"CSE\"))\n",
        "print(first_function(\"VLSI\"))"
      ],
      "metadata": {
        "id": "OuycaHXvHT_Z",
        "colab": {
          "base_uri": "https://localhost:8080/"
        },
        "outputId": "0998548a-55ea-4ae1-acb9-a2010f1baf52"
      },
      "execution_count": null,
      "outputs": [
        {
          "output_type": "stream",
          "name": "stdout",
          "text": [
            "Hello, MTech CSP!\n",
            "Hello, MTech CSE!\n",
            "Hello, MTech VLSI!\n"
          ]
        }
      ]
    },
    {
      "cell_type": "code",
      "source": [
        "def first_function(department):\n",
        "  print(\"Hello, MTech \"+department+\"!\")\n",
        "\n",
        "department = \"CSE\"\n",
        "output = first_function(department) # As the function does not returns anything, defaults returns None\n",
        "print(output)"
      ],
      "metadata": {
        "colab": {
          "base_uri": "https://localhost:8080/"
        },
        "id": "p0CWTSZ4dPrY",
        "outputId": "131e20c9-4935-4ffe-936b-29e5c491bd84"
      },
      "execution_count": null,
      "outputs": [
        {
          "output_type": "stream",
          "name": "stdout",
          "text": [
            "Hello, MTech CSE!\n",
            "None\n"
          ]
        }
      ]
    },
    {
      "cell_type": "markdown",
      "source": [
        "# **Lambda Function**"
      ],
      "metadata": {
        "id": "8pM5P6tzdv3_"
      }
    },
    {
      "cell_type": "markdown",
      "source": [
        "Python has special function called the lambda function. It is a small function with only one expression and can take many arguments.\n",
        "\n",
        "\n",
        "\n",
        "```\n",
        "lambda arguments : expression\n",
        "\n",
        "```\n",
        "\n"
      ],
      "metadata": {
        "id": "VtzBD4O-d61e"
      }
    },
    {
      "cell_type": "code",
      "source": [
        "add_function = lambda a, b : a+b\n",
        "\n",
        "sum = add_function(10, 20)\n",
        "print(sum)"
      ],
      "metadata": {
        "colab": {
          "base_uri": "https://localhost:8080/"
        },
        "id": "2JXfGt_pdvnT",
        "outputId": "6a27b9ea-6be0-44dc-ff33-ab7f917ecc4d"
      },
      "execution_count": null,
      "outputs": [
        {
          "output_type": "stream",
          "name": "stdout",
          "text": [
            "30\n"
          ]
        }
      ]
    },
    {
      "cell_type": "code",
      "source": [
        "add_function = lambda a, b,c : a+b+c\n",
        "\n",
        "sum = add_function(10, 20, 30)\n",
        "print(sum)"
      ],
      "metadata": {
        "colab": {
          "base_uri": "https://localhost:8080/"
        },
        "id": "f1QGBrWugCxT",
        "outputId": "8ba07354-97e7-447f-908c-442f9951f5f8"
      },
      "execution_count": null,
      "outputs": [
        {
          "output_type": "stream",
          "name": "stdout",
          "text": [
            "60\n"
          ]
        }
      ]
    },
    {
      "cell_type": "markdown",
      "source": [
        "This example illustrates the power and use of lambda functions"
      ],
      "metadata": {
        "id": "w96doKoVgzSL"
      }
    },
    {
      "cell_type": "code",
      "source": [
        "def somefunc(n):\n",
        "  return lambda a : a ** n\n",
        "\n",
        "powersof2 = somefunc(2)\n",
        "powersof3 = somefunc(3)\n",
        "\n",
        "print(powersof2(2))\n",
        "print(powersof3(2))"
      ],
      "metadata": {
        "colab": {
          "base_uri": "https://localhost:8080/"
        },
        "id": "75Kn4yDYe5cN",
        "outputId": "f5f2e588-b48f-4c64-8c0b-8198e1ed00ae"
      },
      "execution_count": null,
      "outputs": [
        {
          "output_type": "stream",
          "name": "stdout",
          "text": [
            "4\n",
            "8\n"
          ]
        }
      ]
    },
    {
      "cell_type": "markdown",
      "source": [
        "# **Understanding Scope of Variables**"
      ],
      "metadata": {
        "id": "tRBdkCGzHWCI"
      }
    },
    {
      "cell_type": "markdown",
      "source": [
        "There are four classes of scopes in python\n",
        "1. Local scope\n",
        "2. Enclosing scope\n",
        "3. Global scope\n",
        "4. Built-in"
      ],
      "metadata": {
        "id": "wTQignQtmrnS"
      }
    },
    {
      "cell_type": "markdown",
      "source": [
        "Example for understanding variable scope"
      ],
      "metadata": {
        "id": "84jM8GTKnz86"
      }
    },
    {
      "cell_type": "code",
      "source": [
        "def func(b):\n",
        "  a = 10 #local variable\n",
        "  x = a+b\n",
        "  return x\n",
        "\n",
        "x = func(10)\n",
        "print(a, b, x)"
      ],
      "metadata": {
        "colab": {
          "base_uri": "https://localhost:8080/",
          "height": 200
        },
        "id": "QmxqJFHjmrPw",
        "outputId": "2c771fab-e9b5-4a7d-8bc1-7b5ce655c444"
      },
      "execution_count": null,
      "outputs": [
        {
          "output_type": "error",
          "ename": "NameError",
          "evalue": "ignored",
          "traceback": [
            "\u001b[0;31m---------------------------------------------------------------------------\u001b[0m",
            "\u001b[0;31mNameError\u001b[0m                                 Traceback (most recent call last)",
            "\u001b[0;32m<ipython-input-15-a045cce0f3d5>\u001b[0m in \u001b[0;36m<module>\u001b[0;34m()\u001b[0m\n\u001b[1;32m      5\u001b[0m \u001b[0;34m\u001b[0m\u001b[0m\n\u001b[1;32m      6\u001b[0m \u001b[0mx\u001b[0m \u001b[0;34m=\u001b[0m \u001b[0mfunc\u001b[0m\u001b[0;34m(\u001b[0m\u001b[0;36m10\u001b[0m\u001b[0;34m)\u001b[0m\u001b[0;34m\u001b[0m\u001b[0;34m\u001b[0m\u001b[0m\n\u001b[0;32m----> 7\u001b[0;31m \u001b[0mprint\u001b[0m\u001b[0;34m(\u001b[0m\u001b[0ma\u001b[0m\u001b[0;34m,\u001b[0m \u001b[0mb\u001b[0m\u001b[0;34m,\u001b[0m \u001b[0mx\u001b[0m\u001b[0;34m)\u001b[0m\u001b[0;34m\u001b[0m\u001b[0;34m\u001b[0m\u001b[0m\n\u001b[0m",
            "\u001b[0;31mNameError\u001b[0m: name 'a' is not defined"
          ]
        }
      ]
    },
    {
      "cell_type": "markdown",
      "source": [
        "In the above example, `a` is the local variable and that is being used outside of the function. Here `a` variable has the local scope. One can use a within the function not outside the function. Such usage of variables are defined by scopes"
      ],
      "metadata": {
        "id": "hrgsPJBMn6rR"
      }
    },
    {
      "cell_type": "markdown",
      "source": [
        "### **Local Scope**"
      ],
      "metadata": {
        "id": "1aTJeZIgoZXi"
      }
    },
    {
      "cell_type": "code",
      "source": [
        "def func(b):\n",
        "  a = 10 #local variable and a has local scope\n",
        "  x = a+b\n",
        "  return x\n",
        "\n",
        "x = func(10)\n",
        "print(x)"
      ],
      "metadata": {
        "id": "j-WEumjpHeB4",
        "colab": {
          "base_uri": "https://localhost:8080/"
        },
        "outputId": "2bcd5066-96bf-422a-c629-d51fefd4529f"
      },
      "execution_count": null,
      "outputs": [
        {
          "output_type": "stream",
          "name": "stdout",
          "text": [
            "20\n"
          ]
        }
      ]
    },
    {
      "cell_type": "markdown",
      "source": [
        "The Variable `a` has the local scope as it is defined within the function. `a` cannot be used outside the function"
      ],
      "metadata": {
        "id": "pOjWuq_konu3"
      }
    },
    {
      "cell_type": "markdown",
      "source": [
        "### **Global Scope**"
      ],
      "metadata": {
        "id": "tqWLLIOnozRQ"
      }
    },
    {
      "cell_type": "code",
      "source": [
        "message = 'I am a global variable' #The 'message' is a global variable and has global scope\n",
        "\n",
        "def func():\n",
        "  print(message)\n",
        "\n",
        "func()"
      ],
      "metadata": {
        "id": "IFopDy_JHd-h",
        "colab": {
          "base_uri": "https://localhost:8080/"
        },
        "outputId": "bb4b96d3-72f8-4137-9fdf-1051f1a3b4ea"
      },
      "execution_count": null,
      "outputs": [
        {
          "output_type": "stream",
          "name": "stdout",
          "text": [
            "I am a global variable\n"
          ]
        }
      ]
    },
    {
      "cell_type": "markdown",
      "source": [
        "`message` variable is defined globally in the above code. Thus it has global scope. So it can be used within or outside the functions also."
      ],
      "metadata": {
        "id": "Prpl-3FdpLAv"
      }
    },
    {
      "cell_type": "code",
      "source": [
        "message = 'I am a global variable' #The 'message' is a global variable and has global scope\n",
        "\n",
        "def func():\n",
        "  message = 'I am a local variable' # same variable as global variable.\n",
        "  print(message)\n",
        "\n",
        "func()\n",
        "print(message)"
      ],
      "metadata": {
        "id": "3kjbl1MbHd7h",
        "colab": {
          "base_uri": "https://localhost:8080/"
        },
        "outputId": "99ebd237-2d0c-4b5f-9012-fca8c75daf00"
      },
      "execution_count": null,
      "outputs": [
        {
          "output_type": "stream",
          "name": "stdout",
          "text": [
            "I am a local variable\n",
            "I am a global variable\n"
          ]
        }
      ]
    },
    {
      "cell_type": "markdown",
      "source": [
        "The above example illustrates the variable scope altogather. whenever there is a local variable defined with the same name of global variable, local variable has scope within the function. Outside the function, global variable has the scope."
      ],
      "metadata": {
        "id": "tRqrv8Y8p4LP"
      }
    },
    {
      "cell_type": "markdown",
      "source": [
        "### **Enclosing Scope**"
      ],
      "metadata": {
        "id": "q1jn2hsKqclv"
      }
    },
    {
      "cell_type": "markdown",
      "source": [
        "A Variable that doesnot come under local or global are called enclosing scope"
      ],
      "metadata": {
        "id": "0MtH8rBNqkBc"
      }
    },
    {
      "cell_type": "code",
      "source": [
        "name = 'Rajesh'  # Global scope\n",
        "def college():\n",
        "  institute = 'IIT Mandi' # Enclosing scope\n",
        "  def programme():\n",
        "    dept = 'MS by Research' # Local scope\n",
        "    print('Hey, I am '+name+' pursuing '+dept+' at '+institute)\n",
        "\n",
        "  programme()\n",
        "college()"
      ],
      "metadata": {
        "id": "I0e5ZfcwHd5A",
        "colab": {
          "base_uri": "https://localhost:8080/"
        },
        "outputId": "f932ad8e-834f-406a-d221-cd8b2dfb8054"
      },
      "execution_count": null,
      "outputs": [
        {
          "output_type": "stream",
          "name": "stdout",
          "text": [
            "Hey, I am Rajesh pursuing MS by Research at IIT Mandi\n"
          ]
        }
      ]
    },
    {
      "cell_type": "markdown",
      "source": [
        "### **Built-in Scope**"
      ],
      "metadata": {
        "id": "kEigoFuJsqRI"
      }
    },
    {
      "cell_type": "markdown",
      "source": [
        "All the reserved names in Python built-in modules have a built-in scope.\n",
        "\n",
        "Python would see in the local scope first to see which of the variables are defined in the local scope, then it will look in the enclosing scope and then global scope. If the identifier is not found anywhere then, at last, it will check the built-in scope.\n",
        "\n",
        "Built-in scopes are one of the widest scopes that cover all the reserved keywords. These are easy to call anywhere in the program prior to using them, without the need to define them."
      ],
      "metadata": {
        "id": "ChJVNZ8VtG2C"
      }
    },
    {
      "cell_type": "code",
      "source": [
        "a = 5.5\n",
        "int(a)\n",
        "print(a)\n",
        "print(type(a))"
      ],
      "metadata": {
        "id": "NLpdrHCgHd2J",
        "colab": {
          "base_uri": "https://localhost:8080/"
        },
        "outputId": "71a10ae3-9fbb-4db6-aadd-2f44feb96212"
      },
      "execution_count": null,
      "outputs": [
        {
          "output_type": "stream",
          "name": "stdout",
          "text": [
            "5.5\n",
            "<class 'float'>\n"
          ]
        }
      ]
    },
    {
      "cell_type": "markdown",
      "source": [
        "# **Recursion**"
      ],
      "metadata": {
        "id": "B2SRZivzHe-Q"
      }
    },
    {
      "cell_type": "markdown",
      "source": [
        "A function that call itself is called recursion. It has wide applications. For example factorial of a given number and generating a fibonacci series is explanied using recursion below."
      ],
      "metadata": {
        "id": "GoZLxM04u78a"
      }
    },
    {
      "cell_type": "code",
      "source": [
        "'''\n",
        "GETTING FACTORIAL OF THE GIVEN NUMBER USING RECURSION\n",
        "'''\n",
        "def factorial(n):\n",
        "  if n == 1:\n",
        "    return n\n",
        "  elif n == 0:\n",
        "    return 1\n",
        "  else:\n",
        "    return n*factorial(n-1)\n",
        "\n",
        "num = 5\n",
        "print(\"The factorial of\", num, \"is\", factorial(num))"
      ],
      "metadata": {
        "id": "PDxcrN-YHmX4",
        "colab": {
          "base_uri": "https://localhost:8080/"
        },
        "outputId": "f60627d0-96aa-4a9f-856b-7239b833a6ef"
      },
      "execution_count": null,
      "outputs": [
        {
          "output_type": "stream",
          "name": "stdout",
          "text": [
            "The factorial of 5 is 120\n"
          ]
        }
      ]
    },
    {
      "cell_type": "code",
      "source": [
        "'''\n",
        "GENERATING FIBONACCI SERIES USING RECURSION\n",
        "'''\n",
        "def fibonacci(n):\n",
        "  if n <= 1:\n",
        "      return n\n",
        "  else:\n",
        "      return(fibonacci(n-1) + fibonacci(n-2))\n",
        "\n",
        "n_terms = 10\n",
        "for i in range(n_terms):\n",
        "    print(fibonacci(i))"
      ],
      "metadata": {
        "id": "i6Z20Z3NHmVQ",
        "colab": {
          "base_uri": "https://localhost:8080/"
        },
        "outputId": "864e9dcf-5107-4100-d862-8e8d202d7873"
      },
      "execution_count": null,
      "outputs": [
        {
          "output_type": "stream",
          "name": "stdout",
          "text": [
            "0\n",
            "1\n",
            "1\n",
            "2\n",
            "3\n",
            "5\n",
            "8\n",
            "13\n",
            "21\n",
            "34\n"
          ]
        }
      ]
    },
    {
      "cell_type": "markdown",
      "source": [
        "There are some disadvantages of using recursion. They use more memory and takes more time for recursive calls. Also, It is hard to debug.\n",
        "\n",
        "The same factorial and fibonacci is generated without using recursion. You can note the time taken and compare both the methods."
      ],
      "metadata": {
        "id": "NY012c2vwDVT"
      }
    },
    {
      "cell_type": "code",
      "source": [
        "'''\n",
        "GETTING FACTORIAL OF THE GIVEN NUMBER WITHOUT RECURSION\n",
        "'''\n",
        "num = 5\n",
        "n = num #for printing\n",
        "fact = 1\n",
        "while(num > 0):\n",
        "    fact = fact*num\n",
        "    num=num-1\n",
        "\n",
        "print(\"The factorial of\",n, \"is\", fact)"
      ],
      "metadata": {
        "id": "0Vhrx4oKHmSR",
        "colab": {
          "base_uri": "https://localhost:8080/"
        },
        "outputId": "b2df7450-b28c-42df-ba34-4cf12c9e331f"
      },
      "execution_count": null,
      "outputs": [
        {
          "output_type": "stream",
          "name": "stdout",
          "text": [
            "The factorial of 5 is 120\n"
          ]
        }
      ]
    },
    {
      "cell_type": "code",
      "source": [
        "'''\n",
        "GENERATING FIBONACCI SERIES WITHOUT RECURSION\n",
        "'''\n",
        "a = 0\n",
        "b = 1\n",
        "n = 10\n",
        "print(a,b, sep='\\n')\n",
        "# start looping XXXXXX Add comments like these *********\n",
        "while(n-2):\n",
        "    c=a+b\n",
        "    a=b\n",
        "    b=c\n",
        "    print(c)\n",
        "    n=n-1"
      ],
      "metadata": {
        "id": "caRU1SeiHmPQ",
        "colab": {
          "base_uri": "https://localhost:8080/"
        },
        "outputId": "eb6dc220-5d38-4e3f-a3f0-283161d3708c"
      },
      "execution_count": null,
      "outputs": [
        {
          "output_type": "stream",
          "name": "stdout",
          "text": [
            "0\n",
            "1\n",
            "1\n",
            "2\n",
            "3\n",
            "5\n",
            "8\n",
            "13\n",
            "21\n",
            "34\n"
          ]
        }
      ]
    },
    {
      "cell_type": "markdown",
      "source": [
        "# **Arrays and Lists**"
      ],
      "metadata": {
        "id": "kbTVCNbDHpkY"
      }
    },
    {
      "cell_type": "markdown",
      "source": [
        "* An array is an advanced data type in python which can hold more than one value at a time of similar datatype.\n",
        "\n",
        "* Arrays hold multiple variables of same datatype where as list can hold multiple variables of differnt datatypes too.\n",
        "\n",
        "* **Python does not have built-in support for Arrays, but Python Lists can be used instead.** However if we need to work with arrays we can import from the numpy library.\n",
        "\n",
        "* Strings are stored as an array"
      ],
      "metadata": {
        "id": "ez8tGKi0yXAV"
      }
    },
    {
      "cell_type": "markdown",
      "source": [
        "### **Basic methods**"
      ],
      "metadata": {
        "id": "I4HynvhS21Vg"
      }
    },
    {
      "cell_type": "code",
      "source": [
        "array = [1, 2, 3, 4] #here array is an list which holds collection of same datatype (int)"
      ],
      "metadata": {
        "id": "GEO--RbqHwsa"
      },
      "execution_count": null,
      "outputs": []
    },
    {
      "cell_type": "code",
      "source": [
        "# Accessing values\n",
        "\n",
        "print(array[0]) #prints value at 0th position\n",
        "print(array[3]) #prints value at 3rd position\n",
        "print(array[-1]) #prints the final value"
      ],
      "metadata": {
        "id": "YG8cdFxFHxs7",
        "colab": {
          "base_uri": "https://localhost:8080/"
        },
        "outputId": "1c4c8028-7bf8-4b25-938c-9d498c3b7790"
      },
      "execution_count": null,
      "outputs": [
        {
          "output_type": "stream",
          "name": "stdout",
          "text": [
            "1\n",
            "4\n",
            "4\n"
          ]
        }
      ]
    },
    {
      "cell_type": "code",
      "source": [
        "# length of the array\n",
        "print(len(array))"
      ],
      "metadata": {
        "id": "bEyEWwtQHxqS",
        "colab": {
          "base_uri": "https://localhost:8080/"
        },
        "outputId": "bcefd0d4-5092-417a-d71a-2d40bad51fb3"
      },
      "execution_count": null,
      "outputs": [
        {
          "output_type": "stream",
          "name": "stdout",
          "text": [
            "4\n"
          ]
        }
      ]
    },
    {
      "cell_type": "code",
      "source": [
        "#looping array elements\n",
        "for elements in array:\n",
        "  print(elements)"
      ],
      "metadata": {
        "id": "yMX_BVENHxno",
        "colab": {
          "base_uri": "https://localhost:8080/"
        },
        "outputId": "1c116f3d-f4f8-4355-c3c0-7086ba7756b3"
      },
      "execution_count": null,
      "outputs": [
        {
          "output_type": "stream",
          "name": "stdout",
          "text": [
            "1\n",
            "2\n",
            "3\n",
            "4\n"
          ]
        }
      ]
    },
    {
      "cell_type": "code",
      "source": [
        "# adding new elements to array/list using append\n",
        "array.append(5)\n",
        "print(array)\n",
        "#append always adds element in last"
      ],
      "metadata": {
        "colab": {
          "base_uri": "https://localhost:8080/"
        },
        "id": "beHNC4Zc0YeH",
        "outputId": "cb86f928-d292-4fa5-9b41-fb597e3ac1ea"
      },
      "execution_count": null,
      "outputs": [
        {
          "output_type": "stream",
          "name": "stdout",
          "text": [
            "[1, 2, 3, 4, 5]\n"
          ]
        }
      ]
    },
    {
      "cell_type": "code",
      "source": [
        "# adding new elements to list using insert (This is not applicable for array concepts)\n",
        "array.insert(6, 6) # inserts '6' in 6th position\n",
        "print(array)"
      ],
      "metadata": {
        "colab": {
          "base_uri": "https://localhost:8080/"
        },
        "id": "D9b4B9Y00YT2",
        "outputId": "8fd8767e-6804-46ac-b610-3cbedbba297e"
      },
      "execution_count": null,
      "outputs": [
        {
          "output_type": "stream",
          "name": "stdout",
          "text": [
            "[1, 2, 3, 4, 5, 6]\n"
          ]
        }
      ]
    },
    {
      "cell_type": "code",
      "source": [
        "# removing array/list elements\n",
        "array.pop()\n",
        "print(array)\n",
        "# pop removes element from last"
      ],
      "metadata": {
        "colab": {
          "base_uri": "https://localhost:8080/"
        },
        "id": "Eee1jDu90YQe",
        "outputId": "03506e06-de98-47e8-cdfc-a82be5649ba2"
      },
      "execution_count": null,
      "outputs": [
        {
          "output_type": "stream",
          "name": "stdout",
          "text": [
            "[1, 2, 3, 4, 5]\n"
          ]
        }
      ]
    },
    {
      "cell_type": "code",
      "source": [
        "# deleting certain values at the given index of an array\n",
        "del array[4]\n",
        "print(array)"
      ],
      "metadata": {
        "id": "Qbxc7HXVHxko",
        "colab": {
          "base_uri": "https://localhost:8080/"
        },
        "outputId": "130bd068-0f59-4957-89ac-ec717f7be58f"
      },
      "execution_count": null,
      "outputs": [
        {
          "output_type": "stream",
          "name": "stdout",
          "text": [
            "[1, 2, 3, 4]\n"
          ]
        }
      ]
    },
    {
      "cell_type": "code",
      "source": [
        "# Deleting using remove in list\n",
        "array.remove(3) #this statement removes element 3 in array without reffering to index\n",
        "print(array)"
      ],
      "metadata": {
        "id": "RURRHlGnHxhY",
        "colab": {
          "base_uri": "https://localhost:8080/"
        },
        "outputId": "9a5953a7-3ac4-43f6-8638-6535c43026da"
      },
      "execution_count": null,
      "outputs": [
        {
          "output_type": "stream",
          "name": "stdout",
          "text": [
            "[1, 2, 4]\n"
          ]
        }
      ]
    },
    {
      "cell_type": "markdown",
      "source": [
        "### **More operations on list**"
      ],
      "metadata": {
        "id": "ceEw5KYv2-3P"
      }
    },
    {
      "cell_type": "markdown",
      "source": [
        "More list methods can be seen [here](https://docs.python.org/3/tutorial/datastructures.html)"
      ],
      "metadata": {
        "id": "xGbQezBp3FVg"
      }
    },
    {
      "cell_type": "code",
      "source": [
        "# Reversing a list\n",
        "\n",
        "array = [1, 2, 3, 4, 5]\n",
        "array.reverse()\n",
        "print(array)"
      ],
      "metadata": {
        "colab": {
          "base_uri": "https://localhost:8080/"
        },
        "id": "jYVkv2nY2YTg",
        "outputId": "7336bda2-f13c-4407-8005-25da36d8aadf"
      },
      "execution_count": null,
      "outputs": [
        {
          "output_type": "stream",
          "name": "stdout",
          "text": [
            "[5, 4, 3, 2, 1]\n"
          ]
        }
      ]
    },
    {
      "cell_type": "code",
      "source": [
        "# Sorting a list\n",
        "\n",
        "array = [5, 3, 8, 4, 1, 9]\n",
        "array.sort(reverse=True) # for decending order\n",
        "print(array)\n",
        "\n",
        "array.sort(reverse=False)\n",
        "print(array) # for ascending order"
      ],
      "metadata": {
        "colab": {
          "base_uri": "https://localhost:8080/"
        },
        "id": "YLIbhaS_2YQn",
        "outputId": "17475b29-ad61-4d30-d02a-aab198212d9c"
      },
      "execution_count": null,
      "outputs": [
        {
          "output_type": "stream",
          "name": "stdout",
          "text": [
            "[9, 8, 5, 4, 3, 1]\n",
            "[1, 3, 4, 5, 8, 9]\n"
          ]
        }
      ]
    },
    {
      "cell_type": "markdown",
      "source": [
        "**Copying a list**\n",
        "\n",
        "1. Shallow copy: changes in the copy list gets reflected to the main list\n",
        "2. Deep copy: changes in the copy list does not gets reflected to the main list"
      ],
      "metadata": {
        "id": "hGlytB3w4Neb"
      }
    },
    {
      "cell_type": "code",
      "source": [
        "array = ['Hi', 'Hello', 'Hey']\n",
        "copy_array = array\n",
        "#print(copy_array)\n",
        "\n",
        "copy_array.pop()\n",
        "print(copy_array, array)"
      ],
      "metadata": {
        "colab": {
          "base_uri": "https://localhost:8080/"
        },
        "id": "GxMVsSgzF57i",
        "outputId": "7ba5e70e-adbc-44a0-ff48-33affd2ad890"
      },
      "execution_count": null,
      "outputs": [
        {
          "output_type": "stream",
          "name": "stdout",
          "text": [
            "['Hi', 'Hello'] ['Hi', 'Hello']\n"
          ]
        }
      ]
    },
    {
      "cell_type": "code",
      "source": [
        "array = ['Hi', 'Hello', 'Hey']\n",
        "copy_array = array.copy()\n",
        "#print(copy_array)\n",
        "\n",
        "copy_array.pop()\n",
        "print(copy_array, array)"
      ],
      "metadata": {
        "colab": {
          "base_uri": "https://localhost:8080/"
        },
        "id": "EVj4yVVw2YNP",
        "outputId": "eb2bd84b-e27e-49d3-c934-2b0bbefa8463"
      },
      "execution_count": null,
      "outputs": [
        {
          "output_type": "stream",
          "name": "stdout",
          "text": [
            "['Hi', 'Hello'] ['Hi', 'Hello', 'Hey']\n"
          ]
        }
      ]
    },
    {
      "cell_type": "markdown",
      "source": [
        "### **String operations using list**"
      ],
      "metadata": {
        "id": "dtG2X1jG5Ode"
      }
    },
    {
      "cell_type": "code",
      "source": [
        "name = 'Rajesh'\n",
        "print(name[0])\n",
        "print(name[-1])"
      ],
      "metadata": {
        "colab": {
          "base_uri": "https://localhost:8080/"
        },
        "id": "Iubk-kba5M0G",
        "outputId": "756b374d-4294-4318-da80-95a4d167c7cf"
      },
      "execution_count": null,
      "outputs": [
        {
          "output_type": "stream",
          "name": "stdout",
          "text": [
            "R\n",
            "h\n"
          ]
        }
      ]
    },
    {
      "cell_type": "code",
      "source": [
        "for character in name:\n",
        "  print(character)"
      ],
      "metadata": {
        "colab": {
          "base_uri": "https://localhost:8080/"
        },
        "id": "YZBFbwBS5MyA",
        "outputId": "8c0bc186-c975-44e4-e540-5384d11838b3"
      },
      "execution_count": null,
      "outputs": [
        {
          "output_type": "stream",
          "name": "stdout",
          "text": [
            "R\n",
            "a\n",
            "j\n",
            "e\n",
            "s\n",
            "h\n"
          ]
        }
      ]
    },
    {
      "cell_type": "code",
      "source": [
        "name_as_list = list(name)\n",
        "print(name_as_list)"
      ],
      "metadata": {
        "colab": {
          "base_uri": "https://localhost:8080/"
        },
        "id": "LrkcSGXJ5Mux",
        "outputId": "31a2bb34-bd8a-4b4a-f76b-31b6f6a84a06"
      },
      "execution_count": null,
      "outputs": [
        {
          "output_type": "stream",
          "name": "stdout",
          "text": [
            "['R', 'a', 'j', 'e', 's', 'h']\n"
          ]
        }
      ]
    },
    {
      "cell_type": "code",
      "source": [
        "name = 'RAJESH'\n",
        "rev_name = name[::-1]\n",
        "print(rev_name)"
      ],
      "metadata": {
        "colab": {
          "base_uri": "https://localhost:8080/"
        },
        "id": "LUGMIOoJ5Mr_",
        "outputId": "cd57f791-6e55-4606-dc4f-4174b3697642"
      },
      "execution_count": null,
      "outputs": [
        {
          "output_type": "stream",
          "name": "stdout",
          "text": [
            "HSEJAR\n"
          ]
        }
      ]
    },
    {
      "cell_type": "code",
      "source": [
        "name = 'RAJESH'\n",
        "for i in range(len(name)):\n",
        "  for j in range(len(name)):\n",
        "    if i>=j:\n",
        "      print(name[j], end='')\n",
        "  print('\\n')"
      ],
      "metadata": {
        "colab": {
          "base_uri": "https://localhost:8080/"
        },
        "id": "YAKAHV4AKrv8",
        "outputId": "1242c196-e1b3-4d06-aa34-a7bb15072fdd"
      },
      "execution_count": null,
      "outputs": [
        {
          "output_type": "stream",
          "name": "stdout",
          "text": [
            "R\n",
            "\n",
            "RA\n",
            "\n",
            "RAJ\n",
            "\n",
            "RAJE\n",
            "\n",
            "RAJES\n",
            "\n",
            "RAJESH\n",
            "\n"
          ]
        }
      ]
    },
    {
      "cell_type": "markdown",
      "source": [
        "More examples can be seen in week4 under module String Manipulation"
      ],
      "metadata": {
        "id": "ejRLCk0V6RoL"
      }
    }
  ]
}